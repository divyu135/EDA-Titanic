{
 "cells": [
  {
   "cell_type": "code",
   "execution_count": 18,
   "metadata": {},
   "outputs": [],
   "source": [
    "import pandas as pd\n",
    "from sklearn.ensemble import RandomForestClassifier\n",
    "from sklearn.model_selection import cross_val_score\n",
    "from sklearn.model_selection import GridSearchCV\n",
    "from sklearn.metrics import accuracy_score, precision_score, recall_score\n",
    "\n",
    "import warnings\n",
    "warnings.filterwarnings('ignore',category=FutureWarning)"
   ]
  },
  {
   "cell_type": "markdown",
   "metadata": {},
   "source": [
    "### Fitting a basic model using cross validation"
   ]
  },
  {
   "cell_type": "code",
   "execution_count": 3,
   "metadata": {},
   "outputs": [],
   "source": [
    "train_features = pd.read_csv('./train_features.csv')\n",
    "train_labels = pd.read_csv('./train_labels.csv',header=None)"
   ]
  },
  {
   "cell_type": "code",
   "execution_count": 13,
   "metadata": {},
   "outputs": [],
   "source": [
    "#  a method to print mean standard deviation across 5 forest.\n",
    "def print_results(results):\n",
    "    print('Best params: {}\\n'.format(results.best_params_))\n",
    "    \n",
    "    means = results.cv_results_['mean_test_score']\n",
    "    stds = results.cv_results_['std_test_score']\n",
    "    for mean, std, params in zip(means,stds, results.cv_results_['params']):\n",
    "        print(\"{} (+/-{}) for {}\".format(round(mean,3),round(std,3),params))"
   ]
  },
  {
   "cell_type": "code",
   "execution_count": 16,
   "metadata": {},
   "outputs": [
    {
     "name": "stdout",
     "output_type": "stream",
     "text": [
      "Best params: {'max_depth': 10, 'n_estimators': 50}\n",
      "\n",
      "0.788 (+/-0.062) for {'max_depth': 2, 'n_estimators': 5}\n",
      "0.796 (+/-0.059) for {'max_depth': 2, 'n_estimators': 50}\n",
      "0.801 (+/-0.066) for {'max_depth': 2, 'n_estimators': 100}\n",
      "0.801 (+/-0.044) for {'max_depth': 10, 'n_estimators': 5}\n",
      "0.828 (+/-0.024) for {'max_depth': 10, 'n_estimators': 50}\n",
      "0.815 (+/-0.025) for {'max_depth': 10, 'n_estimators': 100}\n",
      "0.801 (+/-0.035) for {'max_depth': 20, 'n_estimators': 5}\n",
      "0.813 (+/-0.024) for {'max_depth': 20, 'n_estimators': 50}\n",
      "0.815 (+/-0.014) for {'max_depth': 20, 'n_estimators': 100}\n",
      "0.801 (+/-0.029) for {'max_depth': None, 'n_estimators': 5}\n",
      "0.818 (+/-0.019) for {'max_depth': None, 'n_estimators': 50}\n",
      "0.813 (+/-0.013) for {'max_depth': None, 'n_estimators': 100}\n"
     ]
    },
    {
     "name": "stderr",
     "output_type": "stream",
     "text": [
      "/home/d2c/.local/lib/python3.6/site-packages/sklearn/model_selection/_search.py:841: DeprecationWarning: The default of the `iid` parameter will change from True to False in version 0.22 and will be removed in 0.24. This will change numeric results when test-set sizes are unequal.\n",
      "  DeprecationWarning)\n"
     ]
    }
   ],
   "source": [
    "# Identifying best Hyperparameters using GridSearchCV\n",
    "rf = RandomForestClassifier()\n",
    "parameters = {\n",
    "    'n_estimators': [5, 50, 100],\n",
    "    'max_depth': [2,10,20,None]\n",
    "}\n",
    "\n",
    "cv = GridSearchCV(rf,parameters,cv=5)\n",
    "cv.fit(train_features,train_labels.values.ravel())\n",
    "\n",
    "print_results(cv)\n"
   ]
  },
  {
   "cell_type": "markdown",
   "metadata": {},
   "source": [
    "### Evalute results on validation set"
   ]
  },
  {
   "cell_type": "code",
   "execution_count": 20,
   "metadata": {},
   "outputs": [],
   "source": [
    "tr_features = pd.read_csv('./train_features.csv')\n",
    "tr_labels = pd.read_csv('./train_labels.csv',header=None)\n",
    "\n",
    "val_features = pd.read_csv('./val_features.csv')\n",
    "val_labels = pd.read_csv('./val_labels.csv',header=None)\n",
    "\n",
    "te_features = pd.read_csv('./test_features.csv')\n",
    "te_labels = pd.read_csv('./test_labels.csv',header=None)"
   ]
  },
  {
   "cell_type": "markdown",
   "metadata": {},
   "source": [
    "From the above GridSearcCV results we will take best 3 hyperparameters combinations\n",
    "\n",
    "- 0.828 (+/-0.024) for {'max_depth': 10, 'n_estimators': 50}\n",
    "- 0.818 (+/-0.019) for {'max_depth': None, 'n_estimators': 50}\n",
    "- 0.815 (+/-0.025) for {'max_depth': 10, 'n_estimators': 100}\n",
    "\n",
    "and refit these models on full training set"
   ]
  },
  {
   "cell_type": "code",
   "execution_count": 23,
   "metadata": {},
   "outputs": [
    {
     "data": {
      "text/plain": [
       "RandomForestClassifier(bootstrap=True, class_weight=None, criterion='gini',\n",
       "            max_depth=10, max_features='auto', max_leaf_nodes=None,\n",
       "            min_impurity_decrease=0.0, min_impurity_split=None,\n",
       "            min_samples_leaf=1, min_samples_split=2,\n",
       "            min_weight_fraction_leaf=0.0, n_estimators=100, n_jobs=None,\n",
       "            oob_score=False, random_state=None, verbose=0,\n",
       "            warm_start=False)"
      ]
     },
     "execution_count": 23,
     "metadata": {},
     "output_type": "execute_result"
    }
   ],
   "source": [
    "rf1 = RandomForestClassifier(n_estimators=50, max_depth=10)\n",
    "rf1.fit(tr_features,tr_labels.values.ravel())\n",
    "\n",
    "rf2 = RandomForestClassifier(n_estimators=50, max_depth=None)\n",
    "rf2.fit(tr_features,tr_labels.values.ravel())\n",
    "\n",
    "rf3 = RandomForestClassifier(n_estimators=100, max_depth=10)\n",
    "rf3.fit(tr_features,tr_labels.values.ravel())"
   ]
  },
  {
   "cell_type": "markdown",
   "metadata": {},
   "source": [
    "### Evaluate the three models"
   ]
  },
  {
   "cell_type": "code",
   "execution_count": 26,
   "metadata": {},
   "outputs": [
    {
     "name": "stdout",
     "output_type": "stream",
     "text": [
      "Max Depth: 10 / # of Estimate: 50 : Accuracy: 0.827 / Precision: 0.846 / Recall: 0.724\n",
      "Max Depth: None / # of Estimate: 50 : Accuracy: 0.821 / Precision: 0.824 / Recall: 0.737\n",
      "Max Depth: 10 / # of Estimate: 100 : Accuracy: 0.832 / Precision: 0.848 / Recall: 0.737\n"
     ]
    }
   ],
   "source": [
    "for mdl in [rf1,rf2,rf3]:\n",
    "    y_pred = mdl.predict(val_features)\n",
    "    accuracy = round(accuracy_score(val_labels,y_pred),3)\n",
    "    precision = round(precision_score(val_labels,y_pred),3)\n",
    "    recall = round(recall_score(val_labels,y_pred),3)\n",
    "    print('Max Depth: {} / # of Estimate: {} : Accuracy: {} / Precision: {} / Recall: {}'.format(mdl.max_depth,\n",
    "                                                                                                mdl.n_estimators,\n",
    "                                                                                                accuracy,\n",
    "                                                                                                precision,\n",
    "                                                                                                recall))"
   ]
  },
  {
   "cell_type": "markdown",
   "metadata": {},
   "source": [
    "#### Observations\n",
    "We can observe that the model that perform best on cross validation, actually didn't perform well on validation set, third model with 100 estimators and 10 max_depth perform best here. "
   ]
  },
  {
   "cell_type": "markdown",
   "metadata": {},
   "source": [
    "### Evaluting best model on test set"
   ]
  },
  {
   "cell_type": "code",
   "execution_count": 28,
   "metadata": {
    "scrolled": true
   },
   "outputs": [
    {
     "name": "stdout",
     "output_type": "stream",
     "text": [
      "Max Depth: 10 / # of Estimate: 100 : Accuracy: 0.798 / Precision: 0.754 / Recall: 0.662\n"
     ]
    }
   ],
   "source": [
    "y_pred = rf3.predict(te_features)\n",
    "accuracy = round(accuracy_score(te_labels,y_pred),3)\n",
    "precision = round(precision_score(te_labels,y_pred),3)\n",
    "recall = round(recall_score(te_labels,y_pred),3)\n",
    "print('Max Depth: {} / # of Estimate: {} : Accuracy: {} / Precision: {} / Recall: {}'.format(rf3.max_depth, rf3.n_estimators,accuracy,precision,recall))"
   ]
  },
  {
   "cell_type": "markdown",
   "metadata": {},
   "source": [
    "\n",
    "**Model with 100 estimators and max depth 10 is 79.8% accurate with 75.4% precision and 66.2% recall.**"
   ]
  }
 ],
 "metadata": {
  "kernelspec": {
   "display_name": "Python 3",
   "language": "python",
   "name": "python3"
  },
  "language_info": {
   "codemirror_mode": {
    "name": "ipython",
    "version": 3
   },
   "file_extension": ".py",
   "mimetype": "text/x-python",
   "name": "python",
   "nbconvert_exporter": "python",
   "pygments_lexer": "ipython3",
   "version": "3.6.5"
  }
 },
 "nbformat": 4,
 "nbformat_minor": 2
}
